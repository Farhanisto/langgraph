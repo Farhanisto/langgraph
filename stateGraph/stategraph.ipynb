{
 "cells": [
  {
   "cell_type": "markdown",
   "metadata": {},
   "source": [
    "# What is a state graph\n",
    "State:- Is a way to maintain and track information as an AI system processes data.\n",
    "This is like the AI's memory allowing it to remember and update information as it moves through stages of a workflow or graph."
   ]
  },
  {
   "cell_type": "code",
   "execution_count": 17,
   "metadata": {},
   "outputs": [
    {
     "name": "stdout",
     "output_type": "stream",
     "text": [
      "---\n",
      "config:\n",
      "  flowchart:\n",
      "    curve: linear\n",
      "---\n",
      "graph TD;\n",
      "\t__start__([<p>__start__</p>]):::first\n",
      "\tincrement(increment)\n",
      "\t__end__([<p>__end__</p>]):::last\n",
      "\t__start__ --> increment;\n",
      "\tincrement -. &nbsp;stop&nbsp; .-> __end__;\n",
      "\tincrement -. &nbsp;continue&nbsp; .-> increment;\n",
      "\tclassDef default fill:#f2f0ff,line-height:1.2\n",
      "\tclassDef first fill-opacity:0\n",
      "\tclassDef last fill:#bfb6fc\n",
      "\n",
      "{'count': 0, 'sum': 0, 'history': []} state\n",
      "{'count': 1, 'sum': 1, 'history': [1]} state\n",
      "{'count': 2, 'sum': 3, 'history': [1, 2]} state\n",
      "{'count': 3, 'sum': 6, 'history': [1, 2, 3]} state\n",
      "{'count': 4, 'sum': 10, 'history': [1, 2, 3, 4]} state\n",
      "{'count': 5, 'sum': 15, 'history': [1, 2, 3, 4, 5]} state\n",
      "{'count': 6, 'sum': 21, 'history': [1, 2, 3, 4, 5, 6]}\n"
     ]
    }
   ],
   "source": [
    "from typing import TypedDict, List, Annotated\n",
    "from langgraph.graph import END, StateGraph\n",
    "import operator\n",
    "class SimpleState(TypedDict):\n",
    "    count: int\n",
    "    sum: Annotated[int, operator.add]\n",
    "    history: Annotated[List[int], operator.concat]\n",
    "\n",
    "def increment(state: SimpleState)-> SimpleState:\n",
    "    print(state, 'state')\n",
    "    new_count = state[\"count\"] + 1\n",
    "    # new_history = state[\"history\"] + [new_count]\n",
    "    # state['history'].append(new_count)\n",
    "    return {\n",
    "        \"count\": new_count,\n",
    "        \"sum\": new_count,\n",
    "        \"history\":[new_count]\n",
    "    }\n",
    "\n",
    "def should_increment(state):\n",
    "    if state['count'] > 5:\n",
    "        return 'stop'\n",
    "    return 'continue'\n",
    "\n",
    "graph = StateGraph(SimpleState)\n",
    "graph.add_node(\"increment\", increment)\n",
    "graph.set_entry_point(\"increment\")\n",
    "graph.add_conditional_edges(\"increment\", should_increment,{\"continue\": \"increment\", \"stop\": END})\n",
    "app = graph.compile()\n",
    "print(app.get_graph().draw_mermaid())\n",
    "# app.get_graph().print_ascii()\n",
    "state = {\"count\": 0, \"sum\": 0, \"history\": []}\n",
    "result = app.invoke(state)\n",
    "\n",
    "print(result)\n",
    "\n"
   ]
  },
  {
   "cell_type": "code",
   "execution_count": null,
   "metadata": {},
   "outputs": [],
   "source": []
  }
 ],
 "metadata": {
  "kernelspec": {
   "display_name": "venv",
   "language": "python",
   "name": "python3"
  },
  "language_info": {
   "codemirror_mode": {
    "name": "ipython",
    "version": 3
   },
   "file_extension": ".py",
   "mimetype": "text/x-python",
   "name": "python",
   "nbconvert_exporter": "python",
   "pygments_lexer": "ipython3",
   "version": "3.11.9"
  }
 },
 "nbformat": 4,
 "nbformat_minor": 2
}

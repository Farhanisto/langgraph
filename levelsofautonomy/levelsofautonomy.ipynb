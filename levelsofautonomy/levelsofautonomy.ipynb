{
 "cells": [
  {
   "cell_type": "markdown",
   "metadata": {},
   "source": [
    "# Levels of autonomy in LLM applications\n",
    "\n",
    "1. Code -> This has zero autonomy and is 100% deterministic\n",
    "2. LLM call-> A single LLM call means your app basically does one thing you give it an input it process it and it returns you an output, This is a huge leap from hard coded rules and is the second step of autonomy\n",
    "    \n",
    "    disadvantage:\n",
    "    Trying to do everything in one go leads to confusion/ mixed responses.\n",
    "3. Chains: This is like having a group of specialist\n",
    "     disadvantage:\n",
    "     They are rigid and always tend to follow the steps defined by the human.\n",
    "4. Router: Instead of having a defined path like in the chains. Router decide on which route to take eg a personal assistant bot, which first decides if you need help in scheduling, research or calculations.\n",
    "\n",
    "    disadvantage:\n",
    "    It can not remember previous conversations or learn from mistakes\n",
    "5. State Machine(agent):\n",
    "    This is combining the previous level router but with loops\n",
    "    Agent~ control flow controlled by an LLM\n",
    "    This feature involves:\n",
    "      1. Ability to have human in the loop, ask for approval before moving on\n",
    "      2. Multi agent system\n",
    "      3. Advanced memory management\n",
    "      4. Going back in history and exploring better alternatives\n",
    "      5. Adaptive learning\n",
    "\n",
    "\n",
    "A chain/router is one directional hence not an `agent`. whereas in a state machine we can go back in the chain and flow is controlled by LLM\n"
   ]
  },
  {
   "cell_type": "markdown",
   "metadata": {},
   "source": [
    "# AI Agents and Tools\n",
    "\n",
    "This are the problem solvers in the ai world. They can think on there own. \n",
    "`Tools` this are specific functions that agents can use to complete a task\n",
    " \n",
    "# Re-ACT pattern\n",
    "\n",
    "stands for reasoning and acting.\n",
    "\n",
    "Think-> action-> action input-> observe-> final answer"
   ]
  },
  {
   "cell_type": "code",
   "execution_count": null,
   "metadata": {},
   "outputs": [
    {
     "ename": "ValueError",
     "evalue": "ZeroShotAgent does not support multi-input tool get_current_system_time.",
     "output_type": "error",
     "traceback": [
      "\u001b[31m---------------------------------------------------------------------------\u001b[39m",
      "\u001b[31mValueError\u001b[39m                                Traceback (most recent call last)",
      "\u001b[36mCell\u001b[39m\u001b[36m \u001b[39m\u001b[32mIn[10]\u001b[39m\u001b[32m, line 46\u001b[39m\n\u001b[32m     44\u001b[39m     \u001b[38;5;28mprint\u001b[39m(\u001b[33m\"\u001b[39m\u001b[33mResponse:\u001b[39m\u001b[33m\"\u001b[39m, response)\n\u001b[32m     45\u001b[39m \u001b[38;5;28;01mif\u001b[39;00m \u001b[34m__name__\u001b[39m == \u001b[33m\"\u001b[39m\u001b[33m__main__\u001b[39m\u001b[33m\"\u001b[39m:\n\u001b[32m---> \u001b[39m\u001b[32m46\u001b[39m     \u001b[43mmain\u001b[49m\u001b[43m(\u001b[49m\u001b[43m)\u001b[49m\n",
      "\u001b[36mCell\u001b[39m\u001b[36m \u001b[39m\u001b[32mIn[10]\u001b[39m\u001b[32m, line 25\u001b[39m, in \u001b[36mmain\u001b[39m\u001b[34m()\u001b[39m\n\u001b[32m     23\u001b[39m search_tool = TavilySearchResults(search_depth=\u001b[33m\"\u001b[39m\u001b[33mbasic\u001b[39m\u001b[33m\"\u001b[39m)\n\u001b[32m     24\u001b[39m tools = [search_tool, get_current_system_time]\n\u001b[32m---> \u001b[39m\u001b[32m25\u001b[39m agent = \u001b[43minitialize_agent\u001b[49m\u001b[43m(\u001b[49m\n\u001b[32m     26\u001b[39m \u001b[43m    \u001b[49m\u001b[43mtools\u001b[49m\u001b[43m=\u001b[49m\u001b[43mtools\u001b[49m\u001b[43m,\u001b[49m\n\u001b[32m     27\u001b[39m \u001b[43m    \u001b[49m\u001b[43mllm\u001b[49m\u001b[43m=\u001b[49m\u001b[43mllm\u001b[49m\u001b[43m,\u001b[49m\n\u001b[32m     28\u001b[39m \u001b[43m    \u001b[49m\u001b[43magent\u001b[49m\u001b[43m=\u001b[49m\u001b[33;43m\"\u001b[39;49m\u001b[33;43mzero-shot-react-description\u001b[39;49m\u001b[33;43m\"\u001b[39;49m\u001b[43m,\u001b[49m\n\u001b[32m     29\u001b[39m \u001b[43m    \u001b[49m\u001b[43mverbose\u001b[49m\u001b[43m=\u001b[49m\u001b[38;5;28;43;01mTrue\u001b[39;49;00m\n\u001b[32m     30\u001b[39m \u001b[43m\u001b[49m\u001b[43m)\u001b[49m\n\u001b[32m     31\u001b[39m \u001b[38;5;66;03m# Define a query for the agent\u001b[39;00m\n\u001b[32m     32\u001b[39m query = \u001b[33m\"\u001b[39m\u001b[33mWhat was spaceX last launch and how many days ago was that from this instance?\u001b[39m\u001b[33m\"\u001b[39m\n",
      "\u001b[36mFile \u001b[39m\u001b[32m~/codebase/langgraph/venv/lib/python3.11/site-packages/langchain_core/_api/deprecation.py:191\u001b[39m, in \u001b[36mdeprecated.<locals>.deprecate.<locals>.warning_emitting_wrapper\u001b[39m\u001b[34m(*args, **kwargs)\u001b[39m\n\u001b[32m    189\u001b[39m     warned = \u001b[38;5;28;01mTrue\u001b[39;00m\n\u001b[32m    190\u001b[39m     emit_warning()\n\u001b[32m--> \u001b[39m\u001b[32m191\u001b[39m \u001b[38;5;28;01mreturn\u001b[39;00m \u001b[43mwrapped\u001b[49m\u001b[43m(\u001b[49m\u001b[43m*\u001b[49m\u001b[43margs\u001b[49m\u001b[43m,\u001b[49m\u001b[43m \u001b[49m\u001b[43m*\u001b[49m\u001b[43m*\u001b[49m\u001b[43mkwargs\u001b[49m\u001b[43m)\u001b[49m\n",
      "\u001b[36mFile \u001b[39m\u001b[32m~/codebase/langgraph/venv/lib/python3.11/site-packages/langchain/agents/initialize.py:74\u001b[39m, in \u001b[36minitialize_agent\u001b[39m\u001b[34m(tools, llm, agent, callback_manager, agent_path, agent_kwargs, tags, **kwargs)\u001b[39m\n\u001b[32m     72\u001b[39m     agent_cls = AGENT_TO_CLASS[agent]\n\u001b[32m     73\u001b[39m     agent_kwargs = agent_kwargs \u001b[38;5;129;01mor\u001b[39;00m {}\n\u001b[32m---> \u001b[39m\u001b[32m74\u001b[39m     agent_obj = \u001b[43magent_cls\u001b[49m\u001b[43m.\u001b[49m\u001b[43mfrom_llm_and_tools\u001b[49m\u001b[43m(\u001b[49m\n\u001b[32m     75\u001b[39m \u001b[43m        \u001b[49m\u001b[43mllm\u001b[49m\u001b[43m,\u001b[49m\u001b[43m \u001b[49m\u001b[43mtools\u001b[49m\u001b[43m,\u001b[49m\u001b[43m \u001b[49m\u001b[43mcallback_manager\u001b[49m\u001b[43m=\u001b[49m\u001b[43mcallback_manager\u001b[49m\u001b[43m,\u001b[49m\u001b[43m \u001b[49m\u001b[43m*\u001b[49m\u001b[43m*\u001b[49m\u001b[43magent_kwargs\u001b[49m\n\u001b[32m     76\u001b[39m \u001b[43m    \u001b[49m\u001b[43m)\u001b[49m\n\u001b[32m     77\u001b[39m \u001b[38;5;28;01melif\u001b[39;00m agent_path \u001b[38;5;129;01mis\u001b[39;00m \u001b[38;5;129;01mnot\u001b[39;00m \u001b[38;5;28;01mNone\u001b[39;00m:\n\u001b[32m     78\u001b[39m     agent_obj = load_agent(\n\u001b[32m     79\u001b[39m         agent_path, llm=llm, tools=tools, callback_manager=callback_manager\n\u001b[32m     80\u001b[39m     )\n",
      "\u001b[36mFile \u001b[39m\u001b[32m~/codebase/langgraph/venv/lib/python3.11/site-packages/langchain/agents/mrkl/base.py:139\u001b[39m, in \u001b[36mZeroShotAgent.from_llm_and_tools\u001b[39m\u001b[34m(cls, llm, tools, callback_manager, output_parser, prefix, suffix, format_instructions, input_variables, **kwargs)\u001b[39m\n\u001b[32m    112\u001b[39m \u001b[38;5;129m@classmethod\u001b[39m\n\u001b[32m    113\u001b[39m \u001b[38;5;28;01mdef\u001b[39;00m\u001b[38;5;250m \u001b[39m\u001b[34mfrom_llm_and_tools\u001b[39m(\n\u001b[32m    114\u001b[39m     \u001b[38;5;28mcls\u001b[39m,\n\u001b[32m   (...)\u001b[39m\u001b[32m    123\u001b[39m     **kwargs: Any,\n\u001b[32m    124\u001b[39m ) -> Agent:\n\u001b[32m    125\u001b[39m \u001b[38;5;250m    \u001b[39m\u001b[33;03m\"\"\"Construct an agent from an LLM and tools.\u001b[39;00m\n\u001b[32m    126\u001b[39m \n\u001b[32m    127\u001b[39m \u001b[33;03m    Args:\u001b[39;00m\n\u001b[32m   (...)\u001b[39m\u001b[32m    137\u001b[39m \u001b[33;03m        kwargs: Additional parameters to pass to the agent.\u001b[39;00m\n\u001b[32m    138\u001b[39m \u001b[33;03m    \"\"\"\u001b[39;00m\n\u001b[32m--> \u001b[39m\u001b[32m139\u001b[39m     \u001b[38;5;28;43mcls\u001b[39;49m\u001b[43m.\u001b[49m\u001b[43m_validate_tools\u001b[49m\u001b[43m(\u001b[49m\u001b[43mtools\u001b[49m\u001b[43m)\u001b[49m\n\u001b[32m    140\u001b[39m     prompt = \u001b[38;5;28mcls\u001b[39m.create_prompt(\n\u001b[32m    141\u001b[39m         tools,\n\u001b[32m    142\u001b[39m         prefix=prefix,\n\u001b[32m   (...)\u001b[39m\u001b[32m    145\u001b[39m         input_variables=input_variables,\n\u001b[32m    146\u001b[39m     )\n\u001b[32m    147\u001b[39m     llm_chain = LLMChain(\n\u001b[32m    148\u001b[39m         llm=llm,\n\u001b[32m    149\u001b[39m         prompt=prompt,\n\u001b[32m    150\u001b[39m         callback_manager=callback_manager,\n\u001b[32m    151\u001b[39m     )\n",
      "\u001b[36mFile \u001b[39m\u001b[32m~/codebase/langgraph/venv/lib/python3.11/site-packages/langchain/agents/mrkl/base.py:163\u001b[39m, in \u001b[36mZeroShotAgent._validate_tools\u001b[39m\u001b[34m(cls, tools)\u001b[39m\n\u001b[32m    161\u001b[39m \u001b[38;5;129m@classmethod\u001b[39m\n\u001b[32m    162\u001b[39m \u001b[38;5;28;01mdef\u001b[39;00m\u001b[38;5;250m \u001b[39m\u001b[34m_validate_tools\u001b[39m(\u001b[38;5;28mcls\u001b[39m, tools: Sequence[BaseTool]) -> \u001b[38;5;28;01mNone\u001b[39;00m:\n\u001b[32m--> \u001b[39m\u001b[32m163\u001b[39m     \u001b[43mvalidate_tools_single_input\u001b[49m\u001b[43m(\u001b[49m\u001b[38;5;28;43mcls\u001b[39;49m\u001b[43m.\u001b[49m\u001b[34;43m__name__\u001b[39;49m\u001b[43m,\u001b[49m\u001b[43m \u001b[49m\u001b[43mtools\u001b[49m\u001b[43m)\u001b[49m\n\u001b[32m    164\u001b[39m     \u001b[38;5;28;01mif\u001b[39;00m \u001b[38;5;28mlen\u001b[39m(tools) == \u001b[32m0\u001b[39m:\n\u001b[32m    165\u001b[39m         \u001b[38;5;28;01mraise\u001b[39;00m \u001b[38;5;167;01mValueError\u001b[39;00m(\n\u001b[32m    166\u001b[39m             \u001b[33mf\u001b[39m\u001b[33m\"\u001b[39m\u001b[33mGot no tools for \u001b[39m\u001b[38;5;132;01m{\u001b[39;00m\u001b[38;5;28mcls\u001b[39m.\u001b[34m__name__\u001b[39m\u001b[38;5;132;01m}\u001b[39;00m\u001b[33m. At least one tool must be provided.\u001b[39m\u001b[33m\"\u001b[39m\n\u001b[32m    167\u001b[39m         )\n",
      "\u001b[36mFile \u001b[39m\u001b[32m~/codebase/langgraph/venv/lib/python3.11/site-packages/langchain/agents/utils.py:18\u001b[39m, in \u001b[36mvalidate_tools_single_input\u001b[39m\u001b[34m(class_name, tools)\u001b[39m\n\u001b[32m     16\u001b[39m \u001b[38;5;28;01mfor\u001b[39;00m tool \u001b[38;5;129;01min\u001b[39;00m tools:\n\u001b[32m     17\u001b[39m     \u001b[38;5;28;01mif\u001b[39;00m \u001b[38;5;129;01mnot\u001b[39;00m tool.is_single_input:\n\u001b[32m---> \u001b[39m\u001b[32m18\u001b[39m         \u001b[38;5;28;01mraise\u001b[39;00m \u001b[38;5;167;01mValueError\u001b[39;00m(\n\u001b[32m     19\u001b[39m             \u001b[33mf\u001b[39m\u001b[33m\"\u001b[39m\u001b[38;5;132;01m{\u001b[39;00mclass_name\u001b[38;5;132;01m}\u001b[39;00m\u001b[33m does not support multi-input tool \u001b[39m\u001b[38;5;132;01m{\u001b[39;00mtool.name\u001b[38;5;132;01m}\u001b[39;00m\u001b[33m.\u001b[39m\u001b[33m\"\u001b[39m\n\u001b[32m     20\u001b[39m         )\n",
      "\u001b[31mValueError\u001b[39m: ZeroShotAgent does not support multi-input tool get_current_system_time."
     ]
    }
   ],
   "source": [
    "# React agent basic\n",
    "\n",
    "from langchain_google_genai import GoogleGenerativeAI\n",
    "from dotenv import load_dotenv\n",
    "from langchain.agents import create_react_agent, initialize_agent, tool\n",
    "from langchain_community.tools import TavilySearchResults\n",
    "load_dotenv()\n",
    "\n",
    "@tool\n",
    "def get_current_system_time():\n",
    "    \"\"\" Returns the current date and time in the specified format \"\"\"\n",
    "    import datetime\n",
    "    # Get the current system time\n",
    "    current_time = datetime.datetime.now()\n",
    "    # Format the time as a string\n",
    "    formatted_time = current_time.strftime(\"%Y-%m-%d %H:%M:%S\")\n",
    "    return formatted_time\n",
    "\n",
    "def main():\n",
    "    # Initialize the Google Generative AI model\n",
    "    llm = GoogleGenerativeAI(model=\"gemini-1.5-flash\")\n",
    "    # Create a React agent using the model\n",
    "    search_tool = TavilySearchResults(search_depth=\"basic\")\n",
    "    tools = [search_tool, get_current_system_time]\n",
    "    agent = initialize_agent(\n",
    "        tools=tools,\n",
    "        llm=llm,\n",
    "        agent=\"zero-shot-react-description\",\n",
    "        verbose=True\n",
    "    )\n",
    "    # Define a query for the agent\n",
    "    query = \"What was spaceX last launch and how many days ago was that from this instance?\"\n",
    "    # Use the agent to respond to the query\n",
    "    response = agent.invoke(query)\n",
    "    # Print the response\n",
    "\n",
    "    # Define the prompt for the model\n",
    "    # prompt = \"give me a tweet about the weather in San Francisco today\"\n",
    "\n",
    "    # Generate a response from the model\n",
    "    # response = model.invoke(prompt)\n",
    "\n",
    "    # Print the response\n",
    "    print(\"Response:\", response)\n",
    "if __name__ == \"__main__\":\n",
    "    main()"
   ]
  }
 ],
 "metadata": {
  "kernelspec": {
   "display_name": "venv",
   "language": "python",
   "name": "python3"
  },
  "language_info": {
   "codemirror_mode": {
    "name": "ipython",
    "version": 3
   },
   "file_extension": ".py",
   "mimetype": "text/x-python",
   "name": "python",
   "nbconvert_exporter": "python",
   "pygments_lexer": "ipython3",
   "version": "3.11.9"
  }
 },
 "nbformat": 4,
 "nbformat_minor": 2
}

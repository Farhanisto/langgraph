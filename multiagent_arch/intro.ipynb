{
 "cells": [
  {
   "cell_type": "markdown",
   "metadata": {},
   "source": [
    "# Sub-Graphs\n",
    "\n",
    "Sub-graphs allow one to build complex systems with multiple components which are themselves graphs.\n",
    "The main question when adding a subgraph is how the subgrapph and the parent graph communicate.\n",
    "\n",
    "Scenarios of comms:\n",
    "1. Parent graph and subgraph share schema keys. In this case you add a node with the compiled subgraph\n",
    "2. parent and subgrapph on different schema keys. In this case you have to add a node function that invokes the subgraph.\n",
    "\n"
   ]
  },
  {
   "cell_type": "code",
   "execution_count": 1,
   "metadata": {},
   "outputs": [
    {
     "name": "stderr",
     "output_type": "stream",
     "text": [
      "/var/folders/h1/q49kvs554c394p71p_9s2gw80000gn/T/ipykernel_95727/4024190324.py:14: LangChainDeprecationWarning: The class `TavilySearchResults` was deprecated in LangChain 0.3.25 and will be removed in 1.0. An updated version of the class exists in the :class:`~langchain-tavily package and should be used instead. To use it run `pip install -U :class:`~langchain-tavily` and import as `from :class:`~langchain_tavily import TavilySearch``.\n",
      "  search_tool = TavilySearchResults(max_results=2)\n"
     ]
    }
   ],
   "source": [
    "from typing import TypedDict, Annotated\n",
    "from langgraph.graph import add_messages, StateGraph, END\n",
    "from langchain_groq import ChatGroq\n",
    "from langchain_core.messages import AIMessage, HumanMessage\n",
    "from dotenv import load_dotenv\n",
    "from langchain_community.tools.tavily_search import TavilySearchResults\n",
    "from langgraph.prebuilt import ToolNode\n",
    "\n",
    "load_dotenv()\n",
    "\n",
    "class ChildState(TypedDict):\n",
    "    messages: Annotated[list, add_messages]\n",
    "\n",
    "search_tool = TavilySearchResults(max_results=2)\n",
    "tools = [search_tool]\n",
    "\n",
    "llm = ChatGroq(model=\"llama-3.1-8b-instant\")\n",
    "\n",
    "llm_with_tools = llm.bind_tools(tools=tools)\n",
    "\n",
    "def agent(state: ChildState):\n",
    "    return {\n",
    "        \"messages\": [llm_with_tools.invoke(state[\"messages\"])], \n",
    "    }\n",
    "\n",
    "def tools_router(state: ChildState):\n",
    "    last_message = state[\"messages\"][-1]\n",
    "\n",
    "    if(hasattr(last_message, \"tool_calls\") and len(last_message.tool_calls) > 0):\n",
    "        return \"tool_node\"\n",
    "    else: \n",
    "        return END\n",
    "    \n",
    "\n",
    "tool_node = ToolNode(tools=tools)\n",
    "\n",
    "subgraph = StateGraph(ChildState)\n",
    "\n",
    "subgraph.add_node(\"agent\", agent)\n",
    "subgraph.add_node(\"tool_node\", tool_node)\n",
    "subgraph.set_entry_point(\"agent\")\n",
    "\n",
    "subgraph.add_conditional_edges(\"agent\", tools_router)\n",
    "subgraph.add_edge(\"tool_node\", \"agent\")\n",
    "\n",
    "search_app = subgraph.compile()\n"
   ]
  },
  {
   "cell_type": "code",
   "execution_count": 4,
   "metadata": {},
   "outputs": [
    {
     "data": {
      "image/png": "[encoded data removed]",
      "text/plain": [
       "<IPython.core.display.Image object>"
      ]
     },
     "metadata": {},
     "output_type": "display_data"
    }
   ],
   "source": [
    "from IPython.display import Image, display\n",
    "from langchain_core.runnables.graph import MermaidDrawMethod\n",
    "\n",
    "display(\n",
    "    Image(\n",
    "        search_app.get_graph().draw_mermaid_png(\n",
    "            draw_method=MermaidDrawMethod.API\n",
    "        )\n",
    "    )\n",
    ")"
   ]
  },
  {
   "cell_type": "code",
   "execution_count": 6,
   "metadata": {},
   "outputs": [
    {
     "data": {
      "text/plain": [
       "{'messages': [HumanMessage(content='How is the weather in Nairobi?', additional_kwargs={}, response_metadata={}, id='8f2a5c52-ca39-44ea-bed0-02a4de53a78b'),\n",
       "  AIMessage(content='', additional_kwargs={'tool_calls': [{'id': '4x6ftt83t', 'function': {'arguments': '{\"query\":\"Nairobi weather\"}', 'name': 'tavily_search_results_json'}, 'type': 'function'}]}, response_metadata={'token_usage': {'completion_tokens': 20, 'prompt_tokens': 285, 'total_tokens': 305, 'completion_time': 0.113625108, 'prompt_time': 0.021526326, 'queue_time': 0.08936273, 'total_time': 0.135151434}, 'model_name': 'llama-3.1-8b-instant', 'system_fingerprint': 'fp_0f5c9bc037', 'finish_reason': 'tool_calls', 'logprobs': None}, id='run--cbfe5840-d8e5-4e7e-872a-27a499421a96-0', tool_calls=[{'name': 'tavily_search_results_json', 'args': {'query': 'Nairobi weather'}, 'id': '4x6ftt83t', 'type': 'tool_call'}], usage_metadata={'input_tokens': 285, 'output_tokens': 20, 'total_tokens': 305}),\n",
       "  ToolMessage(content='[{\"title\": \"Nairobi 2025 Past Weather (Kenya) - Weather Spark\", \"url\": \"https://weatherspark.com/h/y/99550/2025/Historical-Weather-during-2025-in-Nairobi-Kenya\", \"content\": \"# 2025 Weather History in Nairobi Kenya\\\\n\\\\nThe data for this report comes from the Nairobi / Wilson. See all nearby weather stations\\\\n\\\\n## Latest Report â\\x80\\x94 5:00 PM\\\\n\\\\nFri, Jul 4, 2025    1 hr, 25 min ago    UTC 14:00\\\\n\\\\nCall Sign HKNW\\\\n\\\\nPrecipitation\\\\n\\\\nNo Report\\\\n\\\\nWind\\\\n\\\\n10.4 mph\\\\n\\\\n|  |  |\\\\n| --- | --- |\\\\n| Wind Dir. | 130 deg, SE |\\\\n\\\\nCloud Cover\\\\n\\\\nMostly Cloudy\\\\n\\\\n2,500 ft\\\\n\\\\n|  |  |\\\\n| --- | --- |\\\\n| Alt. | 30.21 inHg |\\\\n\\\\nRaw: HKNW 041400Z 13009KT BKN025 24\\\\\\\\14 Q1023 [...] | Today  Yesterday  Jul  2025  ---   1960197019801990200020102020   ---   2016201720182019202020212022202320242025   ---   SpringSummerFallWinter  JanFebMarAprMayJunJulAugSepOctNovDec 2025 Weather History in Nairobi Kenya The data for this report comes from the Nairobi / Wilson. See all nearby weather stations  Latest Report â\\x80\\x94 5:00 PM Fri, Jul 4, 2025    1 hr, 25 min ago    UTC 14:00  Call Sign HKNW  Precipitation  No Report  Wind  10.4 mph gentle breeze   |  |  | | --- | --- | | Wind Dir. | [...] overlays indicate night and civil twilight.  Map Marker   © OpenStreetMap contributors  Compare Nairobi to another city: CompareMap    Cloud Cover in 2025 in Nairobi Link  Download  Compare  Averages  History:202520242023202220212020201920182017  Cloud Cover in 2025 in NairobiJanFebMarAprMayJunJulAugSepOctNovDec12 AM12 AM3 AM3 AM6 AM6 AM9 AM9 AM12 PM12 PM3 PM3 PM6 PM6 PM9 PM9 PM12 AM12 AMNowNow  0% clear   20% mostly clear   40% partly cloudy   60% mostly cloudy   80% overcast   100%  no\", \"score\": 0.926683}, {\"title\": \"Weather in Nairobi in April 2025 (Nairobi Area) - Detailed Weather ...\", \"url\": \"https://world-weather.info/forecast/kenya/nairobi/april-2025/\", \"content\": \"Detailed ⚡ Nairobi Weather Forecast for April 2025 - day/night 🌡️ temperatures, precipitations - World-Weather.info\", \"score\": 0.7992077}]', name='tavily_search_results_json', id='fcfea12d-2609-4788-b122-c94f32629a20', tool_call_id='4x6ftt83t', artifact={'query': 'Nairobi weather', 'follow_up_questions': None, 'answer': None, 'images': [], 'results': [{'title': 'Nairobi 2025 Past Weather (Kenya) - Weather Spark', 'url': 'https://weatherspark.com/h/y/99550/2025/Historical-Weather-during-2025-in-Nairobi-Kenya', 'content': '# 2025 Weather History in Nairobi Kenya\\n\\nThe data for this report comes from the Nairobi / Wilson. See all nearby weather stations\\n\\n## Latest Report â\\x80\\x94 5:00 PM\\n\\nFri, Jul 4, 2025    1 hr, 25 min ago    UTC 14:00\\n\\nCall Sign HKNW\\n\\nPrecipitation\\n\\nNo Report\\n\\nWind\\n\\n10.4 mph\\n\\n|  |  |\\n| --- | --- |\\n| Wind Dir. | 130 deg, SE |\\n\\nCloud Cover\\n\\nMostly Cloudy\\n\\n2,500 ft\\n\\n|  |  |\\n| --- | --- |\\n| Alt. | 30.21 inHg |\\n\\nRaw: HKNW 041400Z 13009KT BKN025 24\\\\14 Q1023 [...] | Today  Yesterday  Jul  2025  ---   1960197019801990200020102020   ---   2016201720182019202020212022202320242025   ---   SpringSummerFallWinter  JanFebMarAprMayJunJulAugSepOctNovDec 2025 Weather History in Nairobi Kenya The data for this report comes from the Nairobi / Wilson. See all nearby weather stations  Latest Report â\\x80\\x94 5:00 PM Fri, Jul 4, 2025    1 hr, 25 min ago    UTC 14:00  Call Sign HKNW  Precipitation  No Report  Wind  10.4 mph gentle breeze   |  |  | | --- | --- | | Wind Dir. | [...] overlays indicate night and civil twilight.  Map Marker   © OpenStreetMap contributors  Compare Nairobi to another city: CompareMap    Cloud Cover in 2025 in Nairobi Link  Download  Compare  Averages  History:202520242023202220212020201920182017  Cloud Cover in 2025 in NairobiJanFebMarAprMayJunJulAugSepOctNovDec12 AM12 AM3 AM3 AM6 AM6 AM9 AM9 AM12 PM12 PM3 PM3 PM6 PM6 PM9 PM9 PM12 AM12 AMNowNow  0% clear   20% mostly clear   40% partly cloudy   60% mostly cloudy   80% overcast   100%  no', 'score': 0.926683, 'raw_content': None}, {'title': 'Weather in Nairobi in April 2025 (Nairobi Area) - Detailed Weather ...', 'url': 'https://world-weather.info/forecast/kenya/nairobi/april-2025/', 'content': 'Detailed ⚡ Nairobi Weather Forecast for April 2025 - day/night 🌡️ temperatures, precipitations - World-Weather.info', 'score': 0.7992077, 'raw_content': None}], 'response_time': 4.67}),\n",
       "  AIMessage(content=\"Based on the search results, it appears that the weather in Nairobi is mostly cloudy with a gentle breeze. The current temperature is not specified, but the weather forecast for April 2025 indicates that the average high temperature is around 23°C (73°F) and the average low temperature is around 14°C (57°F). It is also expected to be mostly cloudy with some sunshine throughout the day. However, it's always best to check the latest weather forecast for the most up-to-date information.\", additional_kwargs={}, response_metadata={'token_usage': {'completion_tokens': 102, 'prompt_tokens': 969, 'total_tokens': 1071, 'completion_time': 0.187365337, 'prompt_time': 0.070248632, 'queue_time': 0.08985854999999998, 'total_time': 0.257613969}, 'model_name': 'llama-3.1-8b-instant', 'system_fingerprint': 'fp_8ab2e50475', 'finish_reason': 'stop', 'logprobs': None}, id='run--a6b792e0-a747-410a-9def-3b75ae425286-0', usage_metadata={'input_tokens': 969, 'output_tokens': 102, 'total_tokens': 1071})]}"
      ]
     },
     "execution_count": 6,
     "metadata": {},
     "output_type": "execute_result"
    }
   ],
   "source": [
    "search_app.invoke({\"messages\": [HumanMessage(content=\"How is the weather in Nairobi?\")]})"
   ]
  },
  {
   "cell_type": "markdown",
   "metadata": {},
   "source": [
    "# Case 1 Shared Schema(Direct Embedding)"
   ]
  },
  {
   "cell_type": "code",
   "execution_count": 7,
   "metadata": {},
   "outputs": [
    {
     "data": {
      "text/plain": [
       "{'messages': [HumanMessage(content='How is the weather in Chennai?', additional_kwargs={}, response_metadata={}, id='c3339427-91d3-43c6-9620-a74c0d9e462d'),\n",
       "  AIMessage(content='', additional_kwargs={'tool_calls': [{'id': 'grypqw2e0', 'function': {'arguments': '{\"query\":\"Chennai weather today\"}', 'name': 'tavily_search_results_json'}, 'type': 'function'}]}, response_metadata={'token_usage': {'completion_tokens': 21, 'prompt_tokens': 569, 'total_tokens': 590, 'completion_time': 0.034084466, 'prompt_time': 0.037283558, 'queue_time': -0.067386953, 'total_time': 0.071368024}, 'model_name': 'llama-3.1-8b-instant', 'system_fingerprint': 'fp_510c177af0', 'finish_reason': 'tool_calls', 'logprobs': None}, id='run--3a80563f-111f-44a9-a0eb-608d7d3f065a-0', tool_calls=[{'name': 'tavily_search_results_json', 'args': {'query': 'Chennai weather today'}, 'id': 'grypqw2e0', 'type': 'tool_call'}], usage_metadata={'input_tokens': 569, 'output_tokens': 21, 'total_tokens': 590}),\n",
       "  ToolMessage(content='[{\"title\": \"Chennai Weather Forecast 4 Jul 2025 - Times of India\", \"url\": \"https://timesofindia.indiatimes.com/weather/chennai-weather-forecast-today/600017\", \"content\": \"Today\\'s Weather in Chennai: In Chennai today, the weather is expected to be Cloudy with a maximum temperature of 36°C and a minimum of 29°C. Sunrise in\", \"score\": 0.94584644}, {\"title\": \"Weather in Chennai in July 2025 (State of Tamil Nādu)\", \"url\": \"https://world-weather.info/forecast/india/chennai_1/july-2025/\", \"content\": \"Weather in Chennai in July 2025. Chennai Weather Forecast for July 2025, is ... Friday, 4 July. +86°. Day. +95°. Partly cloudy. Saturday, 5 July. +86°. Day. +93\", \"score\": 0.93161833}]', name='tavily_search_results_json', id='9e8eae81-0bdd-478f-a834-02cc5b8962bc', tool_call_id='grypqw2e0', artifact={'query': 'Chennai weather today', 'follow_up_questions': None, 'answer': None, 'images': [], 'results': [{'url': 'https://timesofindia.indiatimes.com/weather/chennai-weather-forecast-today/600017', 'title': 'Chennai Weather Forecast 4 Jul 2025 - Times of India', 'content': \"Today's Weather in Chennai: In Chennai today, the weather is expected to be Cloudy with a maximum temperature of 36°C and a minimum of 29°C. Sunrise in\", 'score': 0.94584644, 'raw_content': None}, {'url': 'https://world-weather.info/forecast/india/chennai_1/july-2025/', 'title': 'Weather in Chennai in July 2025 (State of Tamil Nādu)', 'content': 'Weather in Chennai in July 2025. Chennai Weather Forecast for July 2025, is ... Friday, 4 July. +86°. Day. +95°. Partly cloudy. Saturday, 5 July. +86°. Day. +93', 'score': 0.93161833, 'raw_content': None}], 'response_time': 7.55}),\n",
       "  AIMessage(content='The weather in Chennai today is expected to be Cloudy with a maximum temperature of 36°C and a minimum of 29°C.', additional_kwargs={}, response_metadata={'token_usage': {'completion_tokens': 28, 'prompt_tokens': 528, 'total_tokens': 556, 'completion_time': 0.037333333, 'prompt_time': 0.034846913, 'queue_time': 0.09080724799999998, 'total_time': 0.072180246}, 'model_name': 'llama-3.1-8b-instant', 'system_fingerprint': 'fp_510c177af0', 'finish_reason': 'stop', 'logprobs': None}, id='run--b6f86467-5f43-4e1d-9e88-44ff16e98ebd-0', usage_metadata={'input_tokens': 528, 'output_tokens': 28, 'total_tokens': 556})]}"
      ]
     },
     "execution_count": 7,
     "metadata": {},
     "output_type": "execute_result"
    }
   ],
   "source": [
    "from typing import TypedDict, Annotated\n",
    "from langgraph.graph import add_messages, StateGraph, START, END\n",
    "from langchain_core.messages import HumanMessage\n",
    "\n",
    "# Define parent graph with the same schema\n",
    "class ParentState(TypedDict):\n",
    "    messages: Annotated[list, add_messages]\n",
    "\n",
    "# Create parent graph\n",
    "parent_graph = StateGraph(ParentState)\n",
    "\n",
    "# Add the subgraph as a node\n",
    "parent_graph.add_node(\"search_agent\", search_app)\n",
    "\n",
    "# Connect the flow\n",
    "parent_graph.add_edge(START, \"search_agent\")\n",
    "parent_graph.add_edge(\"search_agent\", END)\n",
    "\n",
    "# Compile parent graph\n",
    "parent_app = parent_graph.compile()\n",
    "\n",
    "# Run the parent graph\n",
    "result = parent_app.invoke({\"messages\": [HumanMessage(content=\"How is the weather in Chennai?\")]})\n",
    "result"
   ]
  },
  {
   "cell_type": "markdown",
   "metadata": {},
   "source": [
    "Different schemas(Invoke with Transformation)"
   ]
  },
  {
   "cell_type": "code",
   "execution_count": 9,
   "metadata": {},
   "outputs": [
    {
     "name": "stdout",
     "output_type": "stream",
     "text": [
      "{'query': 'How is the weather in Nairobi?', 'response': 'The current weather in Nairobi is partly cloudy with a high of 25°C (77.1°F) and a low of 12.2°C (54°F). There is a chance of patchy rain possible throughout the day.'}\n"
     ]
    }
   ],
   "source": [
    "from typing import TypedDict, Annotated, Dict\n",
    "from langgraph.graph import StateGraph, START, END\n",
    "from langchain_core.messages import HumanMessage\n",
    "\n",
    "# Define parent graph with different schema\n",
    "class QueryState(TypedDict):\n",
    "    query: str\n",
    "    response: str\n",
    "\n",
    "# Function to invoke subgraph\n",
    "def search_agent(state: QueryState) -> Dict:\n",
    "    # Transform from parent schema to subgraph schema\n",
    "    subgraph_input = {\n",
    "        \"messages\": [HumanMessage(content=state[\"query\"])]\n",
    "    }\n",
    "    \n",
    "    # Invoke the subgraph\n",
    "    subgraph_result = search_app.invoke(subgraph_input)\n",
    "    \n",
    "    # Transform response back to parent schema\n",
    "    assistant_message = subgraph_result[\"messages\"][-1]\n",
    "    return {\"response\": assistant_message.content}\n",
    "\n",
    "# Create parent graph\n",
    "parent_graph = StateGraph(QueryState)\n",
    "\n",
    "# Add transformation node that invokes subgraph\n",
    "parent_graph.add_node(\"search_agent\", search_agent)\n",
    "\n",
    "# Connect the flow\n",
    "parent_graph.add_edge(START, \"search_agent\")\n",
    "parent_graph.add_edge(\"search_agent\", END)\n",
    "\n",
    "# Compile parent graph\n",
    "parent_app = parent_graph.compile()\n",
    "\n",
    "# Run the parent graph\n",
    "result = parent_app.invoke({\"query\": \"How is the weather in Nairobi?\", \"response\": \"\"})\n",
    "print(result)\n"
   ]
  }
 ],
 "metadata": {
  "kernelspec": {
   "display_name": "venv",
   "language": "python",
   "name": "python3"
  },
  "language_info": {
   "codemirror_mode": {
    "name": "ipython",
    "version": 3
   },
   "file_extension": ".py",
   "mimetype": "text/x-python",
   "name": "python",
   "nbconvert_exporter": "python",
   "pygments_lexer": "ipython3",
   "version": "3.11.9"
  }
 },
 "nbformat": 4,
 "nbformat_minor": 2
}

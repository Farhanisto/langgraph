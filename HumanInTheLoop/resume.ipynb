{
 "cells": [
  {
   "cell_type": "code",
   "execution_count": 4,
   "metadata": {},
   "outputs": [
    {
     "name": "stdout",
     "output_type": "stream",
     "text": [
      "---\n",
      "config:\n",
      "  flowchart:\n",
      "    curve: linear\n",
      "---\n",
      "graph TD;\n",
      "\t__start__(<p>__start__</p>)\n",
      "\tnode_a(node_a)\n",
      "\tnode_b(node_b)\n",
      "\tnode_c(node c)\n",
      "\tnode_d(node_d)\n",
      "\t__end__(<p>__end__</p>)\n",
      "\t__start__ --> node_a;\n",
      "\tnode_a --> __end__;\n",
      "\tclassDef default fill:#f2f0ff,line-height:1.2\n",
      "\tclassDef first fill-opacity:0\n",
      "\tclassDef last fill:#bfb6fc\n",
      "\n",
      "Node A\n",
      "Node B\n",
      "[{'node_a': {'text': 'a'}}, {'__interrupt__': (Interrupt(value='should I go to c/d? c/d', resumable=True, ns=['node_b:9e3d261c-8fcd-c7ca-0356-ea75dd182d37']),)}]\n"
     ]
    }
   ],
   "source": [
    "from langgraph.graph import StateGraph, END\n",
    "from langgraph.checkpoint.memory import MemorySaver\n",
    "from typing import TypedDict\n",
    "from langgraph.types import Command, interrupt\n",
    "\n",
    "mem = MemorySaver()\n",
    "class State(TypedDict):\n",
    "    text: str\n",
    "\n",
    "def node_a(state:State):\n",
    "    print(\"Node A\")\n",
    "    return Command(\n",
    "        goto=\"node_b\",\n",
    "        update={\n",
    "            \"text\": state[\"text\"] + \"a\"\n",
    "        }\n",
    "    )\n",
    "\n",
    "def node_b(state:State):\n",
    "    print(\"Node B\")\n",
    "    human_interrupt = interrupt(\"should I go to c/d? c/d\")\n",
    "    print(human_interrupt, 'interrupt')\n",
    "    if(human_interrupt == 'c'):\n",
    "        return Command(\n",
    "        goto=\"node_c\",\n",
    "        update={\n",
    "            \"text\": state[\"text\"] + \"b\"\n",
    "        }\n",
    "    )\n",
    "    elif human_interrupt == 'd':\n",
    "        return Command(\n",
    "        goto=\"node_d\",\n",
    "        update={\n",
    "            \"text\": state[\"text\"] + \"b\"\n",
    "        }\n",
    "    )\n",
    "\n",
    "    \n",
    "\n",
    "def node_c(state:State):\n",
    "    print(\"Node c\")\n",
    "    return Command(\n",
    "        goto=\"node_d\",\n",
    "        update={\n",
    "            \"text\":state[\"text\"] + \"c\"\n",
    "        }\n",
    "    )\n",
    "\n",
    "def node_d(state:State):\n",
    "    print(\"Node D\")\n",
    "    return Command(\n",
    "        goto=END,\n",
    "        update={\n",
    "            \"text\": state[\"text\"] + \"d\"\n",
    "        }\n",
    "    )\n",
    "\n",
    "graph = StateGraph(State)\n",
    "graph.add_node('node_a', node_a)\n",
    "graph.add_node('node_b', node_b)\n",
    "graph.add_node('node c', node_c)\n",
    "graph.add_node('node_d', node_d)\n",
    "graph.set_entry_point('node_a')\n",
    "app = graph.compile(checkpointer=mem)\n",
    "print(app.get_graph().draw_mermaid())\n",
    "config = {\"configurable\": {\"thread_id\": \"1\"}}\n",
    "\n",
    "result = app.invoke({\n",
    "    \"text\": \"\",\n",
    "}, config=config, stream_mode=\"updates\")\n",
    "\n",
    "print(result)\n",
    "\n"
   ]
  },
  {
   "cell_type": "code",
   "execution_count": 5,
   "metadata": {},
   "outputs": [
    {
     "name": "stdout",
     "output_type": "stream",
     "text": [
      "('node_b',)\n"
     ]
    }
   ],
   "source": [
    "print(app.get_state(config).next)"
   ]
  },
  {
   "cell_type": "code",
   "execution_count": 6,
   "metadata": {},
   "outputs": [
    {
     "name": "stdout",
     "output_type": "stream",
     "text": [
      "Node B\n",
      "C interrupt\n"
     ]
    },
    {
     "data": {
      "text/plain": [
       "[{'node_b': None}]"
      ]
     },
     "execution_count": 6,
     "metadata": {},
     "output_type": "execute_result"
    }
   ],
   "source": [
    "second_result = app.invoke(Command(resume=\"C\"), config=config, stream_mode=\"updates\")\n",
    "second_result"
   ]
  }
 ],
 "metadata": {
  "kernelspec": {
   "display_name": "venv",
   "language": "python",
   "name": "python3"
  },
  "language_info": {
   "codemirror_mode": {
    "name": "ipython",
    "version": 3
   },
   "file_extension": ".py",
   "mimetype": "text/x-python",
   "name": "python",
   "nbconvert_exporter": "python",
   "pygments_lexer": "ipython3",
   "version": "3.11.9"
  }
 },
 "nbformat": 4,
 "nbformat_minor": 2
}

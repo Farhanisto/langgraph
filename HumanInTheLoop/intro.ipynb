{
 "cells": [
  {
   "cell_type": "markdown",
   "metadata": {},
   "source": [
    "# Human in the loop\n",
    "\n",
    "This integrates human input into automated process, it is especially useful where underlining model may have inconsitencies\n",
    "\n",
    "# Use case\n",
    "1. Reviewing tool calls, so humans can review, edit or approve tool calls requested by LLMs\n",
    "2. validating llm output\n",
    "3. providing context: Enable the llm to explictly request human input for clarification, for clarifaction or for multi turn conversation\n",
    "\n",
    "# Design patterns\n",
    "\n",
    "1. Approve or reject: Pause the graph before a critical step such as api call, to review and approve an action. This pattern involves routing the graph based on human input.\n",
    "2. Review or Edit:  The human can review and update the graph feeding it extra information, a human can also review tool calls and edit the output from the llm before proceding.\n",
    "\n",
    "# interupt\n",
    "\n",
    "This is a special langGraph method that pauses the graph nicely, \n",
    "save the program state so one can continue later and works in webapps.\n",
    "handles multiple users\n",
    "survives program crushes and restart\n",
    "lets human take their time to resppond\n",
    " \n",
    "# ways to use Interupt\n",
    "\n",
    "1. Interrupt at compile time \n",
    "\n",
    "``` graph = app.compile(checkpointer=checkpointer, interupt_before= [\"tools\"])```\n",
    "\n",
    "2. Interrupt function with command class\n",
    "\n",
    "``` human_review = interrupt({que: \"is this correct\", tool_call: tool_call})\n",
    "    if(review_action = \"continue\"):\n",
    "      return (Command(goto=\"run_tool\"))\n",
    "```\n",
    "\n"
   ]
  },
  {
   "cell_type": "markdown",
   "metadata": {},
   "source": []
  }
 ],
 "metadata": {
  "language_info": {
   "name": "python"
  }
 },
 "nbformat": 4,
 "nbformat_minor": 2
}
